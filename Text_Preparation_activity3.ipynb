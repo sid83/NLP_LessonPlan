{
 "cells": [
  {
   "cell_type": "markdown",
   "metadata": {},
   "source": [
    "# Preparing Text Data with Python\n",
    "\n",
    "### Overview\n",
    "\n",
    "The dataset used for this activity contains tweet data along with a score (0-4, 4 means highest positive sentiment) for sentiment expressed. \n",
    "\n",
    "We would need to clean the raw text of the tweets to remove the extraneous symbols and words to de-clutter the text. The whole idea is to remove anything that does not contribute (are mere distractions or noise) much to the sentiments expressed. That will make is easier for machine to learn the sentiment expressed. We will follow these steps to prepare the tweet text for analysis: \n",
    "\n",
    "- Remove punctuation symbols and numerals, leaving only alphabetic characters.\n",
    "- Convert all remaining characters to lower case. \n",
    "- Plot bar chart showing individual word frequency, order by the highest to lowest frequency.\n",
    "\n",
    "\n",
    "### Load and transform the tweet data\n",
    "\n",
    "As a first step, load the tweet dataset **tweets.csv** to a dataframe and set the column names to convenient values."
   ]
  },
  {
   "cell_type": "code",
   "execution_count": 1,
   "metadata": {},
   "outputs": [
    {
     "data": {
      "text/html": [
       "<div>\n",
       "<style scoped>\n",
       "    .dataframe tbody tr th:only-of-type {\n",
       "        vertical-align: middle;\n",
       "    }\n",
       "\n",
       "    .dataframe tbody tr th {\n",
       "        vertical-align: top;\n",
       "    }\n",
       "\n",
       "    .dataframe thead th {\n",
       "        text-align: right;\n",
       "    }\n",
       "</style>\n",
       "<table border=\"1\" class=\"dataframe\">\n",
       "  <thead>\n",
       "    <tr style=\"text-align: right;\">\n",
       "      <th></th>\n",
       "      <th>sentiment</th>\n",
       "      <th>tweets</th>\n",
       "    </tr>\n",
       "  </thead>\n",
       "  <tbody>\n",
       "    <tr>\n",
       "      <th>0</th>\n",
       "      <td>4</td>\n",
       "      <td>@elephantbird Hey dear, Happy Friday to You  A...</td>\n",
       "    </tr>\n",
       "    <tr>\n",
       "      <th>1</th>\n",
       "      <td>4</td>\n",
       "      <td>Ughhh layin downnnn    Waiting for zeina to co...</td>\n",
       "    </tr>\n",
       "    <tr>\n",
       "      <th>2</th>\n",
       "      <td>0</td>\n",
       "      <td>@greeniebach I reckon he'll play, even if he's...</td>\n",
       "    </tr>\n",
       "    <tr>\n",
       "      <th>3</th>\n",
       "      <td>0</td>\n",
       "      <td>@vaLewee I know!  Saw it on the news!</td>\n",
       "    </tr>\n",
       "    <tr>\n",
       "      <th>4</th>\n",
       "      <td>0</td>\n",
       "      <td>very sad that http://www.fabchannel.com/ has c...</td>\n",
       "    </tr>\n",
       "  </tbody>\n",
       "</table>\n",
       "</div>"
      ],
      "text/plain": [
       "   sentiment                                             tweets\n",
       "0          4  @elephantbird Hey dear, Happy Friday to You  A...\n",
       "1          4  Ughhh layin downnnn    Waiting for zeina to co...\n",
       "2          0  @greeniebach I reckon he'll play, even if he's...\n",
       "3          0              @vaLewee I know!  Saw it on the news!\n",
       "4          0  very sad that http://www.fabchannel.com/ has c..."
      ]
     },
     "execution_count": 1,
     "metadata": {},
     "output_type": "execute_result"
    }
   ],
   "source": [
    "# Import Dependencies\n",
    "import pandas as pd\n",
    "import matplotlib.pyplot as plt\n",
    "%matplotlib inline\n",
    "\n",
    "# load tweets.csv into a dataframe and rename columns\n",
    "dataset = pd.read_csv('tweets.csv')\n",
    "dataset.rename(columns= {'sentiment_label': 'sentiment',\n",
    "                            'tweet_text': 'tweets'}, inplace=True)\n",
    "dataset.head()"
   ]
  },
  {
   "cell_type": "markdown",
   "metadata": {},
   "source": [
    "Examine the head of the data frame shown above, noticing the content of the two columns.\n",
    "- The Sentiment column contains a sentiment score {0,4} for negative of positive sentiment of the tweet.\n",
    "- The Tweets column contains the actual text of the tweet.\n",
    "\n",
    "\n",
    "## Normalize the text\n",
    "\n",
    "You will now normalize the tweet text. The steps involved are:\n",
    "- Remove numbers.\n",
    "- Remove punctuation.\n",
    "- Convert to lower case."
   ]
  },
  {
   "cell_type": "code",
   "execution_count": 2,
   "metadata": {},
   "outputs": [
    {
     "name": "stdout",
     "output_type": "stream",
     "text": [
      "<class 'str'>\n",
      "!\"#$%&'()*+,-./:;<=>?@[\\]^_`{|}~\n"
     ]
    }
   ],
   "source": [
    "# import string library to bring in a string of punctuation characters\n",
    "import string\n",
    "punct_chars = string.punctuation\n",
    "print(type(punct_chars))\n",
    "print (punct_chars) # check out the punctuation characters in the string, these will be used as filter"
   ]
  },
  {
   "cell_type": "code",
   "execution_count": 3,
   "metadata": {},
   "outputs": [
    {
     "data": {
      "text/plain": [
       "['elephantbird hey dear happy friday to you  already had your rices bowl for lunch ',\n",
       " 'ughhh layin downnnn    waiting for zeina to cook breakfast',\n",
       " 'greeniebach i reckon hell play even if hes not but i know nothing  it wont be the same without him',\n",
       " 'valewee i know  saw it on the news',\n",
       " 'very sad that httpwwwfabchannelcom has closed down one of the few web services that ive used for over  years']"
      ]
     },
     "execution_count": 3,
     "metadata": {},
     "output_type": "execute_result"
    }
   ],
   "source": [
    "tweets = dataset['tweets'].tolist()\n",
    "\n",
    "# remove numbers\n",
    "tweets = list(map(lambda x: ''.join([\"\" if char.isdigit() else char for char in x]), tweets))\n",
    "\n",
    "# remove punctuation chars\n",
    "tweets = list(map(lambda x: ''.join([\"\" if char in punct_chars else char for char in x]), tweets))\n",
    "\n",
    "# convert to lower case\n",
    "tweets = list(map(str.lower, tweets))\n",
    "tweets[:5]"
   ]
  },
  {
   "cell_type": "markdown",
   "metadata": {},
   "source": [
    "Examine the tweet text. All of the characters are lower case and there are no punctuation characters, or numbers. \n",
    "\n",
    "Next, you will compute the counts and frequencies of the words in the tweets. The **nltk** package contains two tools to help:\n",
    "* The ** regexp_tokenize** functuon tokenizes the text. Tokenization is the process of dividing the text into its component tokens. In this case, the tokens are all words, since you are working with normalized text.\n",
    "* The ** FreqDist** function computes the frequency distribution of words in a text corpus. A Pandas data frame is then computed from the word frequency array. "
   ]
  },
  {
   "cell_type": "code",
   "execution_count": 4,
   "metadata": {},
   "outputs": [
    {
     "data": {
      "text/html": [
       "<div>\n",
       "<style scoped>\n",
       "    .dataframe tbody tr th:only-of-type {\n",
       "        vertical-align: middle;\n",
       "    }\n",
       "\n",
       "    .dataframe tbody tr th {\n",
       "        vertical-align: top;\n",
       "    }\n",
       "\n",
       "    .dataframe thead th {\n",
       "        text-align: right;\n",
       "    }\n",
       "</style>\n",
       "<table border=\"1\" class=\"dataframe\">\n",
       "  <thead>\n",
       "    <tr style=\"text-align: right;\">\n",
       "      <th></th>\n",
       "      <th>Count</th>\n",
       "    </tr>\n",
       "  </thead>\n",
       "  <tbody>\n",
       "    <tr>\n",
       "      <th>i</th>\n",
       "      <td>74980</td>\n",
       "    </tr>\n",
       "    <tr>\n",
       "      <th>to</th>\n",
       "      <td>56329</td>\n",
       "    </tr>\n",
       "    <tr>\n",
       "      <th>the</th>\n",
       "      <td>51708</td>\n",
       "    </tr>\n",
       "    <tr>\n",
       "      <th>a</th>\n",
       "      <td>37950</td>\n",
       "    </tr>\n",
       "    <tr>\n",
       "      <th>my</th>\n",
       "      <td>31680</td>\n",
       "    </tr>\n",
       "    <tr>\n",
       "      <th>and</th>\n",
       "      <td>30083</td>\n",
       "    </tr>\n",
       "    <tr>\n",
       "      <th>you</th>\n",
       "      <td>26978</td>\n",
       "    </tr>\n",
       "    <tr>\n",
       "      <th>is</th>\n",
       "      <td>23724</td>\n",
       "    </tr>\n",
       "    <tr>\n",
       "      <th>it</th>\n",
       "      <td>23179</td>\n",
       "    </tr>\n",
       "    <tr>\n",
       "      <th>for</th>\n",
       "      <td>21696</td>\n",
       "    </tr>\n",
       "    <tr>\n",
       "      <th>in</th>\n",
       "      <td>21485</td>\n",
       "    </tr>\n",
       "    <tr>\n",
       "      <th>of</th>\n",
       "      <td>18419</td>\n",
       "    </tr>\n",
       "    <tr>\n",
       "      <th>im</th>\n",
       "      <td>17735</td>\n",
       "    </tr>\n",
       "    <tr>\n",
       "      <th>on</th>\n",
       "      <td>16849</td>\n",
       "    </tr>\n",
       "    <tr>\n",
       "      <th>me</th>\n",
       "      <td>16005</td>\n",
       "    </tr>\n",
       "    <tr>\n",
       "      <th>so</th>\n",
       "      <td>15056</td>\n",
       "    </tr>\n",
       "    <tr>\n",
       "      <th>have</th>\n",
       "      <td>14437</td>\n",
       "    </tr>\n",
       "    <tr>\n",
       "      <th>that</th>\n",
       "      <td>14138</td>\n",
       "    </tr>\n",
       "    <tr>\n",
       "      <th>but</th>\n",
       "      <td>12723</td>\n",
       "    </tr>\n",
       "    <tr>\n",
       "      <th>just</th>\n",
       "      <td>12714</td>\n",
       "    </tr>\n",
       "  </tbody>\n",
       "</table>\n",
       "</div>"
      ],
      "text/plain": [
       "      Count\n",
       "i     74980\n",
       "to    56329\n",
       "the   51708\n",
       "a     37950\n",
       "my    31680\n",
       "and   30083\n",
       "you   26978\n",
       "is    23724\n",
       "it    23179\n",
       "for   21696\n",
       "in    21485\n",
       "of    18419\n",
       "im    17735\n",
       "on    16849\n",
       "me    16005\n",
       "so    15056\n",
       "have  14437\n",
       "that  14138\n",
       "but   12723\n",
       "just  12714"
      ]
     },
     "execution_count": 4,
     "metadata": {},
     "output_type": "execute_result"
    }
   ],
   "source": [
    "def word_frequency(tweets):\n",
    "    import nltk\n",
    "    '''\n",
    "    function to calculate the frequency of word occurence in a corpus\n",
    "    args: tweets - a list of strings\n",
    "    returns: dataframe with index as word and a column 'Count'. Lists the words sorted in descending order by count\n",
    "    '''\n",
    "    tweets = list(map(lambda x: nltk.regexp_tokenize(x, r'\\S+'), tweets)) # word tokens as list of lists\n",
    "    \n",
    "    tweets = [w for l in tweets for w in l] # convert list of lists to a single list\n",
    "\n",
    "    ## Compute the frequency distribution of the words as a dictionary\n",
    "    fdist = nltk.FreqDist(tweets) \n",
    "    \n",
    "    ## Convert the dictionary to a dataframe contaning the words and\n",
    "    ## counts indexed by the words, and then take the transpose.\n",
    "    count_frame = pd.DataFrame(fdist, index =[0]).T\n",
    "    count_frame.columns = ['Count']\n",
    "    return(count_frame.sort_values('Count', ascending = False))\n",
    " \n",
    "wf = word_frequency(tweets)\n",
    "wf.head(20)"
   ]
  },
  {
   "cell_type": "markdown",
   "metadata": {},
   "source": [
    "wf dataframe lists the 20 top words ordered by the term frequency. Of these 20 most frequent words none are likely to convey much information on sentiment.  \n",
    "\n",
    "Create a bar plot of word frequency for the most common 50 words. "
   ]
  },
  {
   "cell_type": "code",
   "execution_count": 26,
   "metadata": {},
   "outputs": [
    {
     "data": {
      "image/png": "[encoded data removed]",
      "text/plain": [
       "<Figure size 1152x576 with 1 Axes>"
      ]
     },
     "metadata": {
      "needs_background": "light"
     },
     "output_type": "display_data"
    },
    {
     "data": {
      "text/plain": [
       "'Plotting Done'"
      ]
     },
     "execution_count": 26,
     "metadata": {},
     "output_type": "execute_result"
    }
   ],
   "source": [
    "def bar_plot(df):\n",
    "    '''\n",
    "    function to make bar chart of top 50 words\n",
    "    args: dataframe with word as index and column \"Count\"\n",
    "    returns: Bar Plot\n",
    "    '''\n",
    "    ## Barplot of the most fequent words.   \n",
    "    fig = plt.figure(figsize=(16, 8))\n",
    "    ax = fig.gca()    \n",
    "    df['Count'][:50].plot(kind = 'bar', ax = ax)\n",
    "    ax.set_title('Frequency of the most common words')\n",
    "    ax.set_ylabel('Frequency of word')\n",
    "    ax.set_xlabel('Word')\n",
    "    plt.show()\n",
    "    return 'Plotting Done'\n",
    "bar_plot(wf)"
   ]
  },
  {
   "cell_type": "markdown",
   "metadata": {},
   "source": [
    "Lets plot the cumulative distribution frequency (CDF) plot."
   ]
  },
  {
   "cell_type": "code",
   "execution_count": 29,
   "metadata": {},
   "outputs": [
    {
     "data": {
      "image/png": "[encoded data removed]",
      "text/plain": [
       "<Figure size 1152x648 with 1 Axes>"
      ]
     },
     "metadata": {
      "needs_background": "light"
     },
     "output_type": "display_data"
    },
    {
     "data": {
      "text/plain": [
       "'Plotting Done'"
      ]
     },
     "execution_count": 29,
     "metadata": {},
     "output_type": "execute_result"
    }
   ],
   "source": [
    "def cumfr_plot(df):\n",
    "\n",
    "    # Compute the relative cumulative frequency of the words in descending order of frequency and add the dataframe.   \n",
    "    word_count = float(df['Count'].sum(axis = 0))   \n",
    "    df['Cum'] = df['Count'].cumsum(axis = 0)\n",
    "    df['Cum'] = df['Cum'].divide(word_count)\n",
    "    \n",
    "    # Barplot the cumulative frequency for the most frequent words.   \n",
    "    fig = plt.figure(figsize=(16, 9))\n",
    "    ax = fig.gca()    \n",
    "    df['Cum'][:50].plot(kind = 'bar', ax = ax)\n",
    "    ax.set_title('Cumulative fraction of total words vs. words')\n",
    "    ax.set_ylabel('Cumulative fraction')\n",
    "    ax.set_xlabel('Word')\n",
    "    plt.show()\n",
    "    return 'Plotting Done'\n",
    "\n",
    "cumfr_plot(wf)"
   ]
  },
  {
   "cell_type": "markdown",
   "metadata": {},
   "source": [
    "Upon examining the plots, we will se that the most frequently occuring words are stop words, such as \"i\", \"to\", the\", \"a\", \"my\", \"and\", which are not likely to be helpful in determining sentiment. Also, the frequency of the words drops off fairly quickly. Thus it can be concluded that for the dataset, the most frequent words are stop words and the frequency of words drops off rather quickly. Also notice, that the frequency of the words becomes uniform fairly quickly. "
   ]
  },
  {
   "cell_type": "markdown",
   "metadata": {},
   "source": [
    "# Student / Partner Activity #3\n",
    "****\n",
    "\n",
    "## Remove Stop Words\n",
    "* The words which do not contribute a lot to the sentiments expressed are known as stop words. These words have to be removed from the normalized text for further analysis. We have an extensive list of such stop words in `stopwords.csv` "
   ]
  },
  {
   "cell_type": "code",
   "execution_count": 7,
   "metadata": {},
   "outputs": [
    {
     "data": {
      "text/html": [
       "<div>\n",
       "<style scoped>\n",
       "    .dataframe tbody tr th:only-of-type {\n",
       "        vertical-align: middle;\n",
       "    }\n",
       "\n",
       "    .dataframe tbody tr th {\n",
       "        vertical-align: top;\n",
       "    }\n",
       "\n",
       "    .dataframe thead th {\n",
       "        text-align: right;\n",
       "    }\n",
       "</style>\n",
       "<table border=\"1\" class=\"dataframe\">\n",
       "  <thead>\n",
       "    <tr style=\"text-align: right;\">\n",
       "      <th></th>\n",
       "      <th>words</th>\n",
       "    </tr>\n",
       "  </thead>\n",
       "  <tbody>\n",
       "    <tr>\n",
       "      <th>0</th>\n",
       "      <td>a</td>\n",
       "    </tr>\n",
       "    <tr>\n",
       "      <th>1</th>\n",
       "      <td>about</td>\n",
       "    </tr>\n",
       "    <tr>\n",
       "      <th>2</th>\n",
       "      <td>above</td>\n",
       "    </tr>\n",
       "    <tr>\n",
       "      <th>3</th>\n",
       "      <td>actual</td>\n",
       "    </tr>\n",
       "    <tr>\n",
       "      <th>4</th>\n",
       "      <td>after</td>\n",
       "    </tr>\n",
       "  </tbody>\n",
       "</table>\n",
       "</div>"
      ],
      "text/plain": [
       "    words\n",
       "0       a\n",
       "1   about\n",
       "2   above\n",
       "3  actual\n",
       "4   after"
      ]
     },
     "execution_count": 7,
     "metadata": {},
     "output_type": "execute_result"
    }
   ],
   "source": [
    "# load the stop words dataset and view first five elements\n",
    "stop_words = pd.read_csv('stopwords.csv')\n",
    "stop_words.head()"
   ]
  },
  {
   "cell_type": "code",
   "execution_count": 8,
   "metadata": {},
   "outputs": [
    {
     "data": {
      "text/plain": [
       "['a',\n",
       " 'about',\n",
       " 'above',\n",
       " 'actual',\n",
       " 'after',\n",
       " 'again',\n",
       " 'against',\n",
       " 'all',\n",
       " 'alreadi',\n",
       " 'also',\n",
       " 'alway',\n",
       " 'am',\n",
       " 'amp',\n",
       " 'an',\n",
       " 'and',\n",
       " 'ani',\n",
       " 'anoth',\n",
       " 'any',\n",
       " 'anyth',\n",
       " 'are']"
      ]
     },
     "execution_count": 8,
     "metadata": {},
     "output_type": "execute_result"
    }
   ],
   "source": [
    "# Lets form a list of unique stop words\n",
    "stop_word_unique = stop_words['words'].unique().tolist()\n",
    "stop_word_unique[:20]"
   ]
  },
  {
   "cell_type": "markdown",
   "metadata": {},
   "source": [
    "Filter out the Stop Words"
   ]
  },
  {
   "cell_type": "code",
   "execution_count": 21,
   "metadata": {},
   "outputs": [
    {
     "data": {
      "text/plain": [
       "['elephantbird dear happy already rices bowl',\n",
       " 'ughhh layin downnnn waiting zeina cook breakfast',\n",
       " 'greeniebach reckon hell hes nothing wont without',\n",
       " 'valewee news',\n",
       " 'sad httpwwwfabchannelcom closed web services ive used years',\n",
       " 'fearnecotton sings remember alwaysss radio catch artist',\n",
       " 'god ur side anything possible',\n",
       " 'lovesmrs stupid',\n",
       " 'delved guts expression engine flexible cms dev great clients',\n",
       " 'emoskank awww',\n",
       " 'vh better tube',\n",
       " 'ran champagne wonder brother convince bring bottle',\n",
       " 'carolinefjones wish going',\n",
       " 'homeworkthen bedwaking awful',\n",
       " 'ashleyltmsyf ashley hush hush hush hush',\n",
       " 'scratch enjoy seein people left college came makes chuckle',\n",
       " 'demisuperfan good sorry took long reply chillin listening music wbu',\n",
       " 'lydiajohn good morning youre early chilling chomping far training',\n",
       " 'joni omggg lol trending topic released hehe',\n",
       " 'danielak quotgood morningquot next seriously marvelous']"
      ]
     },
     "execution_count": 21,
     "metadata": {},
     "output_type": "execute_result"
    }
   ],
   "source": [
    "tokenized=[]; word_filt=[]\n",
    "for tweet in tweets:\n",
    "    tokenized.append(tweet.split())\n",
    "\n",
    "tweets_filtered = list(map(lambda x: (' ').join(word for word in x if word not in stop_word_unique), tokenized))\n",
    "tweets_filtered[:20]"
   ]
  },
  {
   "cell_type": "code",
   "execution_count": 22,
   "metadata": {},
   "outputs": [],
   "source": [
    "# Calculating word frequency\n",
    "df_filtered = word_frequency(tweets_filtered) #using the function created earlier"
   ]
  },
  {
   "cell_type": "code",
   "execution_count": 25,
   "metadata": {},
   "outputs": [
    {
     "data": {
      "text/html": [
       "<div>\n",
       "<style scoped>\n",
       "    .dataframe tbody tr th:only-of-type {\n",
       "        vertical-align: middle;\n",
       "    }\n",
       "\n",
       "    .dataframe tbody tr th {\n",
       "        vertical-align: top;\n",
       "    }\n",
       "\n",
       "    .dataframe thead th {\n",
       "        text-align: right;\n",
       "    }\n",
       "</style>\n",
       "<table border=\"1\" class=\"dataframe\">\n",
       "  <thead>\n",
       "    <tr style=\"text-align: right;\">\n",
       "      <th></th>\n",
       "      <th>Count</th>\n",
       "    </tr>\n",
       "  </thead>\n",
       "  <tbody>\n",
       "    <tr>\n",
       "      <th>good</th>\n",
       "      <td>9133</td>\n",
       "    </tr>\n",
       "    <tr>\n",
       "      <th>like</th>\n",
       "      <td>7796</td>\n",
       "    </tr>\n",
       "    <tr>\n",
       "      <th>go</th>\n",
       "      <td>7320</td>\n",
       "    </tr>\n",
       "    <tr>\n",
       "      <th>going</th>\n",
       "      <td>6407</td>\n",
       "    </tr>\n",
       "    <tr>\n",
       "      <th>love</th>\n",
       "      <td>6269</td>\n",
       "    </tr>\n",
       "    <tr>\n",
       "      <th>lol</th>\n",
       "      <td>5517</td>\n",
       "    </tr>\n",
       "    <tr>\n",
       "      <th>really</th>\n",
       "      <td>4888</td>\n",
       "    </tr>\n",
       "    <tr>\n",
       "      <th>well</th>\n",
       "      <td>4474</td>\n",
       "    </tr>\n",
       "    <tr>\n",
       "      <th>thanks</th>\n",
       "      <td>3927</td>\n",
       "    </tr>\n",
       "    <tr>\n",
       "      <th>oh</th>\n",
       "      <td>3843</td>\n",
       "    </tr>\n",
       "    <tr>\n",
       "      <th>miss</th>\n",
       "      <td>3564</td>\n",
       "    </tr>\n",
       "    <tr>\n",
       "      <th>hope</th>\n",
       "      <td>3408</td>\n",
       "    </tr>\n",
       "    <tr>\n",
       "      <th>morning</th>\n",
       "      <td>3397</td>\n",
       "    </tr>\n",
       "    <tr>\n",
       "      <th>great</th>\n",
       "      <td>3269</td>\n",
       "    </tr>\n",
       "    <tr>\n",
       "      <th>ill</th>\n",
       "      <td>3220</td>\n",
       "    </tr>\n",
       "    <tr>\n",
       "      <th>thats</th>\n",
       "      <td>3076</td>\n",
       "    </tr>\n",
       "    <tr>\n",
       "      <th>haha</th>\n",
       "      <td>3013</td>\n",
       "    </tr>\n",
       "    <tr>\n",
       "      <th>sad</th>\n",
       "      <td>2814</td>\n",
       "    </tr>\n",
       "    <tr>\n",
       "      <th>wish</th>\n",
       "      <td>2763</td>\n",
       "    </tr>\n",
       "    <tr>\n",
       "      <th>fun</th>\n",
       "      <td>2752</td>\n",
       "    </tr>\n",
       "  </tbody>\n",
       "</table>\n",
       "</div>"
      ],
      "text/plain": [
       "         Count\n",
       "good      9133\n",
       "like      7796\n",
       "go        7320\n",
       "going     6407\n",
       "love      6269\n",
       "lol       5517\n",
       "really    4888\n",
       "well      4474\n",
       "thanks    3927\n",
       "oh        3843\n",
       "miss      3564\n",
       "hope      3408\n",
       "morning   3397\n",
       "great     3269\n",
       "ill       3220\n",
       "thats     3076\n",
       "haha      3013\n",
       "sad       2814\n",
       "wish      2763\n",
       "fun       2752"
      ]
     },
     "execution_count": 25,
     "metadata": {},
     "output_type": "execute_result"
    }
   ],
   "source": [
    "# View the top words after stopwords removal\n",
    "df_filtered.head(20)"
   ]
  },
  {
   "cell_type": "code",
   "execution_count": 27,
   "metadata": {},
   "outputs": [
    {
     "data": {
      "image/png": "[encoded data removed]",
      "text/plain": [
       "<Figure size 1152x576 with 1 Axes>"
      ]
     },
     "metadata": {
      "needs_background": "light"
     },
     "output_type": "display_data"
    },
    {
     "data": {
      "text/plain": [
       "'Plotting Done'"
      ]
     },
     "execution_count": 27,
     "metadata": {},
     "output_type": "execute_result"
    }
   ],
   "source": [
    "# create bar chart using bar_plot function\n",
    "bar_plot(df_filtered)"
   ]
  },
  {
   "cell_type": "code",
   "execution_count": 30,
   "metadata": {},
   "outputs": [
    {
     "data": {
      "image/png": "[encoded data removed]",
      "text/plain": [
       "<Figure size 1152x648 with 1 Axes>"
      ]
     },
     "metadata": {
      "needs_background": "light"
     },
     "output_type": "display_data"
    },
    {
     "data": {
      "text/plain": [
       "'Plotting Done'"
      ]
     },
     "execution_count": 30,
     "metadata": {},
     "output_type": "execute_result"
    }
   ],
   "source": [
    "# Create Cumulative Frequency\n",
    "cumfr_plot(df_filtered)"
   ]
  },
  {
   "cell_type": "code",
   "execution_count": null,
   "metadata": {},
   "outputs": [],
   "source": []
  }
 ],
 "metadata": {
  "kernelspec": {
   "display_name": "Python [conda env:PythonKeras] *",
   "language": "python",
   "name": "conda-env-PythonKeras-py"
  },
  "language_info": {
   "codemirror_mode": {
    "name": "ipython",
    "version": 3
   },
   "file_extension": ".py",
   "mimetype": "text/x-python",
   "name": "python",
   "nbconvert_exporter": "python",
   "pygments_lexer": "ipython3",
   "version": "3.6.8"
  }
 },
 "nbformat": 4,
 "nbformat_minor": 1
}
